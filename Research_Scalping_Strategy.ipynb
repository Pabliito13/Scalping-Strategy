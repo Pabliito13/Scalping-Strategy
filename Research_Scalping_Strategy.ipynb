{
 "cells": [
  {
   "cell_type": "markdown",
   "id": "66018aff-e6f9-4acd-860b-a70a319f0514",
   "metadata": {},
   "source": [
    "<div style=\"text-align: center; font-family: 'Times New Roman', Times, serif; font-size: 32px;\">\n",
    "Gold Futures Scalping Strategy Analysis\n",
    "</div>\n",
    "\n",
    "This notebook presents an analysis of a scalping strategy applied to gold futures (GC), tested over the last 30 days from March 04, 2025, to April 14, 2025, using 1-minute timeframe data retrieved via the Interactive Brokers API. This research is a variant of my primary scalping strategy, which employs a broader set of indicators. Here, I focus specifically on two indicators to simplify the approach and evaluate its effectiveness. The objective is to assess the strategy’s performance through key metrics like total return, drawdown, and risk-adjusted returns, emphasizing results and insights over implementation details."
   ]
  },
  {
   "cell_type": "markdown",
   "id": "f8e21516-54e3-4f97-92bf-fcdbab6a63b4",
   "metadata": {},
   "source": [
    "## Strategy Description\n",
    "\n",
    "This variant of my main scalping strategy leverages two technical indicators, unlike the broader set used in the primary approach:\n",
    "- **SMA (Simple Moving Average)**: An 8-period SMA serves as an exit signal for single-position trades.\n",
    "- **RSI (Relative Strength Index)**: A 10-period RSI triggers long entries when it drops below 30, indicating an oversold condition.\n",
    "\n",
    "The strategy initiates a long position with a fixed size of 1 contract whenever RSI < 30. Additional positions are opened if the price falls 2 USD below an existing entry, allowing accumulation. Exit conditions depend on the number of open positions:\n",
    "- For a single position, it closes when the price touches the 8-period SMA.\n",
    "- For multiple positions, all close when the price reaches the average entry price plus 1 USD.\n",
    "\n",
    "The strategy was backtested with an initial capital of 100,000 USD, aiming to exploit short-term price movements in the gold futures market using this simplified two-indicator framework."
   ]
  },
  {
   "cell_type": "markdown",
   "id": "68322595-5578-4304-a56d-762ca70e0c1e",
   "metadata": {},
   "source": [
    "## Data Used\n",
    "\n",
    "The dataset comprises 1-minute historical data for the most active gold futures contract (GCM5), sourced from Interactive Brokers. It spans 30 days, from March 04, 2025, to April 14, 2025, and includes open, high, low, and close prices. The total number of observations is inferred from the 587 trades executed during the test period."
   ]
  },
  {
   "cell_type": "markdown",
   "id": "cffeb0c4-5d97-4dee-991e-5e8b53bdc271",
   "metadata": {},
   "source": [
    "## Methodology\n",
    "\n",
    "The backtest assessed the following performance metrics:\n",
    "1. **Total Return**: Percentage gain in equity from the initial $100,000 capital.\n",
    "2. **Maximum Realized Drawdown**: The largest net equity drop below the starting capital.\n",
    "3. **Maximum Intraday Drawdown**: The largest single-day equity decline from its intraday peak, reflecting daily risk.\n",
    "4. **Sharpe Ratio**: Risk-adjusted return, annualized using daily returns with no risk-free rate.\n",
    "\n",
    "Daily results tracked initial balance, end-of-day equity, net profit/loss (PnL), and intraday drawdown. Additionally, the strategy was compared to a Buy and Hold approach—holding one gold futures contract for the entire period—though this may not be an ideal benchmark for a scalping strategy due to its short-term focus."
   ]
  },
  {
   "cell_type": "markdown",
   "id": "585d5f6e-4832-4dcd-ab42-3a8b0599df87",
   "metadata": {},
   "source": [
    "## Results\n",
    "\n",
    "The strategy yielded the following performance over 30 days:\n",
    "- **Total Return**: 17.90%\n",
    "- **Maximum Realized Drawdown**: 0.00% (no net capital loss)\n",
    "- **Maximum Intraday Drawdown**: -$8247.00 (occurred on 2025-04-07)\n",
    "- **Sharpe Ratio**: 5.30\n",
    "- **Number of Trades**: 587\n",
    "\n",
    "The table below summarizes daily performance, showing initial balance, end-of-day equity, net PnL, and maximum intraday drawdown:"
   ]
  },
  {
   "cell_type": "markdown",
   "id": "f92b1cc4-05c9-4f9f-b0e7-7dcff045fe81",
   "metadata": {},
   "source": [
    "```\n",
    "Daily Results:\n",
    "Data                 Balance       Equity          PnL  Daily Drawdown\n",
    "----------------------------------------------------------------------\n",
    "2025-03-04         100237.00    100237.00         0.00         -781.00\n",
    "2025-03-05         100457.00    100461.00       220.00         -334.00\n",
    "2025-03-06         100785.00    100785.00       328.00         -559.00\n",
    "2025-03-07         101005.00    101009.00       220.00         -393.00\n",
    "2025-03-08         101005.00          nan         0.00           -0.00\n",
    "2025-03-09         101005.00          nan         0.00           -0.00\n",
    "2025-03-10         101343.00    101343.00       338.00         -484.00\n",
    "2025-03-11         101421.00    101396.00        78.00         -111.00\n",
    "2025-03-12         101478.00    101481.00        57.00         -254.00\n",
    "2025-03-13         101914.00    101914.00       436.00         -112.00\n",
    "2025-03-14         102056.00    102048.00       142.00         -235.00\n",
    "2025-03-15         102056.00          nan         0.00           -0.00\n",
    "2025-03-16         102056.00          nan         0.00           -0.00\n",
    "2025-03-17         102180.00    102180.00       124.00          -99.00\n",
    "2025-03-18         102338.00    102338.00       158.00         -173.00\n",
    "2025-03-19         102460.00    102460.00       122.00         -140.00\n",
    "2025-03-20         102568.00    102565.00       108.00         -120.00\n",
    "2025-03-21         102835.00    102840.00       267.00        -2301.00\n",
    "2025-03-22         102835.00          nan         0.00           -0.00\n",
    "2025-03-23         102835.00          nan         0.00           -0.00\n",
    "2025-03-24         103055.00    103046.00       220.00         -678.00\n",
    "2025-03-25         103311.00    103312.00       256.00         -185.00\n",
    "2025-03-26         103523.00    103523.00       212.00         -199.00\n",
    "2025-03-27         103863.00    103863.00       340.00         -107.00\n",
    "2025-03-28         104119.00    104119.00       256.00         -469.00\n",
    "2025-03-29         104119.00          nan         0.00           -0.00\n",
    "2025-03-30         104119.00          nan         0.00           -0.00\n",
    "2025-03-31         104661.00    104661.00       542.00         -204.00\n",
    "2025-04-01         104715.00    104598.00        54.00         -662.00\n",
    "2025-04-02         105968.00    105925.00      1253.00         -768.00\n",
    "2025-04-03         106113.00    105899.00       145.00        -2010.00\n",
    "2025-04-04         106113.00    102606.00         0.00        -4157.00\n",
    "2025-04-05         106113.00          nan         0.00           -0.00\n",
    "2025-04-06         106113.00          nan         0.00           -0.00\n",
    "2025-04-07         106113.00     94143.00         0.00        -8247.00\n",
    "2025-04-08         106113.00     95889.00         0.00        -7560.00\n",
    "2025-04-09         113546.00    113290.00      7433.00         -256.00\n",
    "2025-04-10         113546.00          nan         0.00           -0.00\n",
    "2025-04-11         117703.00    117703.00      4157.00           -0.00\n",
    "2025-04-12         117703.00          nan         0.00           -0.00\n",
    "2025-04-13         117703.00          nan         0.00           -0.00\n",
    "2025-04-14         117902.00    117902.00       199.00           -0.00\n",
    "```\n"
   ]
  },
  {
   "cell_type": "markdown",
   "id": "1d5a9a1b-0d64-46e9-b272-c796ca972a14",
   "metadata": {},
   "source": [
    "The equity curve below visualizes the strategy’s performance over the 30-day period:\n",
    "![Test Image](/images/chart_1.png)"
   ]
  },
  {
   "cell_type": "markdown",
   "id": "6b756704-4fcd-4f3d-be5a-ee389db31712",
   "metadata": {},
   "source": [
    "For comparison, the Buy and Hold equity curve is shown below, representing the performance of holding one gold futures contract over the same period:\n",
    "![Test Image](/images/buy_and_hold.png)"
   ]
  },
  {
   "cell_type": "markdown",
   "id": "c8b8c598-0bfe-4b38-a29d-7238afbdd9a9",
   "metadata": {},
   "source": [
    "## Drawdown Analysis\n",
    "Despite the strong overall performance, the strategy experienced a significant drawdown during a brief market selloff:\n",
    "\n",
    "- **Maximum Daily Drawdown**: **-\\$8,247** on April 7, 2025.\n",
    "- **Maximum Drawdown**: **-\\$11,970** on April 7, 2025, at 13:25, with equity dropping from a peak of **\\$106,113** to **\\$94,143**.\n",
    "\n",
    "This drawdown coincided with a period of intense short-selling pressure in the market. The strategy's reliance on trend-following or momentum-based signals appears less effective during rapid downward price movements, highlighting a vulnerability in strongly bearish conditions."
   ]
  },
  {
   "cell_type": "markdown",
   "id": "8725c7c4-2097-4573-a52e-def434846adb",
   "metadata": {},
   "source": [
    "## Key Observations\n",
    "1. **Strengths**:\n",
    "   - The strategy delivers consistent profitability in favorable market conditions, with a high Sharpe Ratio and robust daily gains.\n",
    "   - Its high-frequency approach effectively captures small price movements.\n",
    "2. **Weaknesses**:\n",
    "   - Significant drawdowns occur during sharp market selloffs, as observed on April 7, 2025.\n",
    "   - The absence of trading on certain days (e.g., weekends) suggests potential over-optimization for specific market conditions.\n",
    "3. **Market Dependency**:\n",
    "   - Analysis indicates that the strategy underperforms when the market experiences strong short-selling pressure. Avoidingtrading during such periods could improve stability."
   ]
  },
  {
   "cell_type": "markdown",
   "id": "45606fe2-dffa-4f0c-8938-dc9c6b8d3614",
   "metadata": {},
   "source": [
    "## Discussion\n",
    "\n",
    "The strategy achieved a 17.90% return over 30 days, with a Sharpe Ratio of 5.30, indicating strong risk-adjusted performance. The 0.00% realized drawdown confirms that the exit rules effectively protected the initial capital. However, the maximum intraday drawdown of -\\$8247.00 on April 07, 2025, highlights significant short-term risk, likely due to price volatility during position accumulation early in the period.\n",
    "\n",
    "Notably, the largest daily PnL of 7433.00 USD occurred on April 09, 2025, with a modest drawdown of -\\$256.00, demonstrating the strategy’s ability to capitalize on favorable movements. For comparison, a Buy and Hold approach—holding one gold futures contract for the entire period—was considered."
   ]
  },
  {
   "cell_type": "markdown",
   "id": "e0fbcb4c-e848-423f-b99e-617a746861d8",
   "metadata": {},
   "source": [
    "## Conclusions\n",
    "\n",
    "This scalping strategy, a variant of the main trading strategy, has demonstrated impressive performance over the last 30 days, achieving a 17.90% return with strong risk-adjusted metrics. Compared to the primary strategy, which incorporates additional indicators to provide more robust confirmation for market entries, this variant uses a streamlined set of indicators (EMA, RSI, ATR) for faster execution. However, the significant drawdown on April 7, 2025, during a market selloff underscores the need for caution in bearish conditions. By incorporating a market regime filter and further stress-testing, the strategy can become more resilient while maintaining its profitability. Traders are advised to monitor market conditions closely and consider pausing the strategy during strong short-selling periods. Potential enhancements include:\n",
    "- Capping the number of accumulated positions to limit exposure.\n",
    "- Adding a stop-loss to reduce intraday drawdowns.\n",
    "\n",
    "Compared to the Buy and Hold strategy, the scalping approach offers superior flexibility and frequency of returns, though the comparison is limited by their differing objectives. This backtest provides a solid foundation for further optimization and potential live implementation.\n",
    "\n",
    "Future updates to this notebook may include code to implement the proposed regime filter and enhanced backtesting procedures."
   ]
  }
 ],
 "metadata": {
  "kernelspec": {
   "display_name": "Python 3 (ipykernel)",
   "language": "python",
   "name": "python3"
  },
  "language_info": {
   "codemirror_mode": {
    "name": "ipython",
    "version": 3
   },
   "file_extension": ".py",
   "mimetype": "text/x-python",
   "name": "python",
   "nbconvert_exporter": "python",
   "pygments_lexer": "ipython3",
   "version": "3.11.9"
  }
 },
 "nbformat": 4,
 "nbformat_minor": 5
}
