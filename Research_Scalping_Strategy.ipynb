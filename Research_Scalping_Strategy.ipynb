{
 "cells": [
  {
   "cell_type": "markdown",
   "id": "66018aff-e6f9-4acd-860b-a70a319f0514",
   "metadata": {},
   "source": [
    "<div style=\"text-align: center; font-family: 'Times New Roman', Times, serif; font-size: 32px;\">\n",
    "Gold Futures Scalping Strategy Analysis\n",
    "</div>\n",
    "\n",
    "This notebook presents an analysis of a scalping strategy applied to gold futures (GC), tested over the last 30 days from March 04, 2025, to April 14, 2025, using 1-minute timeframe data retrieved via the Interactive Brokers API. This research is a variant of my primary scalping strategy, which employs a broader set of indicators. Here, I focus specifically on two indicators to simplify the approach and evaluate its effectiveness. The objective is to assess the strategy’s performance through key metrics like total return, drawdown, and risk-adjusted returns, emphasizing results and insights over implementation details."
   ]
  },
  {
   "cell_type": "markdown",
   "id": "f8e21516-54e3-4f97-92bf-fcdbab6a63b4",
   "metadata": {},
   "source": [
    "## Strategy Description\n",
    "\n",
    "This variant of my main scalping strategy leverages two technical indicators, unlike the broader set used in the primary approach:\n",
    "- **SMA (Simple Moving Average)**: An 8-period SMA serves as an exit signal for single-position trades.\n",
    "- **RSI (Relative Strength Index)**: A 10-period RSI triggers long entries when it drops below 30, indicating an oversold condition.\n",
    "\n",
    "The strategy initiates a long position with a fixed size of 1 contract whenever RSI < 23. Additional positions are opened if the price falls 5 USD below an existing entry, allowing accumulation. Exit conditions depend on the number of open positions:\n",
    "- For a single position, it closes when the price touches the 8-period SMA.\n",
    "- For multiple positions, all close when the price reaches the average entry price plus 3 USD.\n",
    "\n",
    "The strategy was backtested with an initial capital of 100,000 USD, aiming to exploit short-term price movements in the gold futures market using this simplified two-indicator framework."
   ]
  },
  {
   "cell_type": "markdown",
   "id": "68322595-5578-4304-a56d-762ca70e0c1e",
   "metadata": {},
   "source": [
    "## Data Used\n",
    "\n",
    "The dataset comprises 1-minute historical data for the most active gold futures contract (GCM5), sourced from Interactive Brokers. It spans 30 days, from March 04, 2025, to April 14, 2025, and includes open, high, low, and close prices. The total number of observations is inferred from the 587 trades executed during the test period."
   ]
  },
  {
   "cell_type": "markdown",
   "id": "cffeb0c4-5d97-4dee-991e-5e8b53bdc271",
   "metadata": {},
   "source": [
    "## Methodology\n",
    "\n",
    "The backtest assessed the following performance metrics:\n",
    "1. **Total Return**: Percentage gain in equity from the initial $100,000 capital.\n",
    "2. **Maximum Realized Drawdown**: The largest net equity drop below the starting capital.\n",
    "3. **Maximum Intraday Drawdown**: The largest single-day equity decline from its intraday peak, reflecting daily risk.\n",
    "4. **Sharpe Ratio**: Risk-adjusted return, annualized using daily returns with no risk-free rate.\n",
    "\n",
    "Daily results tracked initial balance, end-of-day equity, net profit/loss (PnL), and intraday drawdown. Additionally, the strategy was compared to a Buy and Hold approach—holding one gold futures contract for the entire period—though this may not be an ideal benchmark for a scalping strategy due to its short-term focus."
   ]
  },
  {
   "cell_type": "markdown",
   "id": "585d5f6e-4832-4dcd-ab42-3a8b0599df87",
   "metadata": {},
   "source": [
    "## Performance Summary\n",
    "\n",
    "The strategy yielded the following performance over 30 days:\n",
    "- **Total Return**: 24.82%, , with the balance growing to **\\$124,822** from an initial value.\n",
    "- **Maximum Realized Drawdown**: 0.00% (no net capital loss)\n",
    "- **Maximum Intraday Drawdown**: -$8247.00 (occurred on 2025-04-07)\n",
    "- **Sharpe Ratio**: 5.78\n",
    "- **Number of Trades**: 282\n",
    "- **Daily Performance**:\n",
    "  - Significant daily profits include **\\$7,979** on April 9, 2025, **\\$6,785** on April 11, 2025, and **\\$3,820** on April 3, 2025.\n",
    "  - Consistent gains were observed on most trading days, with flat performance on non-trading days (e.g., weekends).\n",
    "\n",
    "The table below summarizes daily performance, showing initial balance, end-of-day equity, net PnL, and maximum intraday drawdown:"
   ]
  },
  {
   "cell_type": "markdown",
   "id": "f92b1cc4-05c9-4f9f-b0e7-7dcff045fe81",
   "metadata": {},
   "source": [
    "```\n",
    "Daily Results:\n",
    "Data                 Balance       Equity          PnL  Daily Drawdown\n",
    "----------------------------------------------------------------------\n",
    "2025-03-04         100260.00    100260.00         0.00         -600.00\n",
    "2025-03-05         100412.00    100421.00       152.00         -266.00\n",
    "2025-03-06         100598.00    100623.00       186.00         -373.00\n",
    "2025-03-07         100837.00    100833.00       239.00         -239.00\n",
    "2025-03-08         100837.00          nan         0.00           -0.00\n",
    "2025-03-09         100837.00          nan         0.00           -0.00\n",
    "2025-03-10         100980.00    100645.00       143.00         -715.00\n",
    "2025-03-11         101940.00    101922.00       960.00          -61.00\n",
    "2025-03-12         102017.00    102034.00        77.00         -223.00\n",
    "2025-03-13         102150.00    102150.00       133.00          -35.00\n",
    "2025-03-14         102207.00    102207.00        57.00         -107.00\n",
    "2025-03-15         102207.00          nan         0.00           -0.00\n",
    "2025-03-16         102207.00          nan         0.00           -0.00\n",
    "2025-03-17         102249.00    102249.00        42.00          -85.00\n",
    "2025-03-18         102368.00    102367.00       119.00         -186.00\n",
    "2025-03-19         102538.00    102538.00       170.00         -178.00\n",
    "2025-03-20         102642.00    102645.00       104.00         -122.00\n",
    "2025-03-21         102642.00    102492.00         0.00        -2500.00\n",
    "2025-03-22         102642.00          nan         0.00           -0.00\n",
    "2025-03-23         102642.00          nan         0.00           -0.00\n",
    "2025-03-24         102642.00    101402.00         0.00        -2230.00\n",
    "2025-03-25         103122.00    103044.00       480.00         -534.00\n",
    "2025-03-26         103122.00    103092.00         0.00         -280.00\n",
    "2025-03-27         103862.00    103880.00       740.00          -56.00\n",
    "2025-03-28         104278.00    104278.00       416.00         -336.00\n",
    "2025-03-29         104278.00          nan         0.00           -0.00\n",
    "2025-03-30         104278.00          nan         0.00           -0.00\n",
    "2025-03-31         104859.00    104859.00       581.00         -333.00\n",
    "2025-04-01         104913.00    104595.00        54.00         -975.00\n",
    "2025-04-02         106039.00    105996.00      1126.00         -738.00\n",
    "2025-04-03         109859.00    109289.00      3820.00       -13400.00\n",
    "2025-04-04         109859.00     98771.00         0.00       -11892.00\n",
    "2025-04-05         109859.00          nan         0.00           -0.00\n",
    "2025-04-06         109859.00          nan         0.00           -0.00\n",
    "2025-04-07         109859.00     81299.00         0.00       -17040.00\n",
    "2025-04-08         109859.00     84597.00         0.00       -14280.00\n",
    "2025-04-09         117838.00    117268.00      7979.00         -570.00\n",
    "2025-04-10         117838.00          nan         0.00           -0.00\n",
    "2025-04-11         124623.00    124623.00      6785.00           -0.00\n",
    "2025-04-12         124623.00          nan         0.00           -0.00\n",
    "2025-04-13         124623.00          nan         0.00           -0.00\n",
    "2025-04-14         124822.00    124822.00       199.00           -0.00\n",
    "```\n"
   ]
  },
  {
   "cell_type": "markdown",
   "id": "1d5a9a1b-0d64-46e9-b272-c796ca972a14",
   "metadata": {},
   "source": [
    "The equity curve below visualizes the strategy’s performance over the 30-day period:\n",
    "![Test Image](/images/chart_1.png)"
   ]
  },
  {
   "cell_type": "markdown",
   "id": "6b756704-4fcd-4f3d-be5a-ee389db31712",
   "metadata": {},
   "source": [
    "For comparison, the Buy and Hold equity curve is shown below, representing the performance of holding one gold futures contract over the same period:\n",
    "![Test Image](/images/buy_hold_chart.png)"
   ]
  },
  {
   "cell_type": "markdown",
   "id": "c8b8c598-0bfe-4b38-a29d-7238afbdd9a9",
   "metadata": {},
   "source": [
    "## Drawdown Analysis\n",
    "Despite the strong overall performance, the strategy experienced a significant drawdown during a brief market selloff:\n",
    "\n",
    "- **Maximum Daily Drawdown**: **-\\$17,040** on April 7, 2025.\n",
    "- **Maximum Drawdown**: **-\\$28,560** on April 7, 2025, at 13:26, with equity dropping from a cumulative peak of **\\$109,859** to **\\$81,299**.\n",
    "\n",
    "This drawdown coincided with a period of intense short-selling pressure in the market. The strategy's reliance on trend-following or momentum-based signals appears less effective during rapid downward price movements, highlighting a vulnerability in strongly bearish conditions."
   ]
  },
  {
   "cell_type": "markdown",
   "id": "d4b17fea-e4f1-49bc-97a2-ed85e40d4ce5",
   "metadata": {},
   "source": [
    "The image below visualizes the concept explained above:\n",
    "![Test Image](/images/chart_and_price.png)"
   ]
  },
  {
   "cell_type": "markdown",
   "id": "8725c7c4-2097-4573-a52e-def434846adb",
   "metadata": {},
   "source": [
    "## Key Observations\n",
    "1. **Strengths**:\n",
    "   - The strategy achieves consistent profitability in bullish or stable market conditions, capitalizing on small price movements with a high Sharpe Ratio.\n",
    "   - Its streamlined design, using fewer indicators (EMA, RSI, ATR) than the main strategy, allows for rapid trade execution, suitable for scalping.\n",
    "2. **Weaknesses**:\n",
    "   - The focus on long positions renders the strategy ineffective during market selloffs, as seen in the significant drawdown on April 7, 2025.\n",
    "   - The absence of stop-loss mechanisms or additional indicators increases exposure to prolonged adverse price movements.\n",
    "3. **Market Dependency**:\n",
    "   - The strategy’s performance is closely tied to gold price movements. Sharp declines in gold prices, as observed during the selloff, lead to substantial equity drawdowns, highlighting the need for caution in bearish markets."
   ]
  },
  {
   "cell_type": "markdown",
   "id": "45606fe2-dffa-4f0c-8938-dc9c6b8d3614",
   "metadata": {},
   "source": [
    "## Discussion\n",
    "\n",
    "The strategy achieved a 24.82% return over 30 days, with a Sharpe Ratio of 5.78, indicating strong risk-adjusted performance. The 0.00% realized drawdown confirms that the exit rules effectively protected the initial capital. However, the maximum intraday drawdown of -\\$17040.00 on April 07, 2025, highlights significant short-term risk, likely due to price volatility during position accumulation early in the period.\n",
    "\n",
    "Notably, the largest daily PnL of 7979.00 USD occurred on April 09, 2025, with a modest drawdown of -\\$570.00, demonstrating the strategy’s ability to capitalize on favorable movements. For comparison, a Buy and Hold approach—holding one gold futures contract for the entire period—was considered."
   ]
  },
  {
   "cell_type": "markdown",
   "id": "e0fbcb4c-e848-423f-b99e-617a746861d8",
   "metadata": {},
   "source": [
    "## Conclusions\n",
    "\n",
    "This scalping strategy, a variant of the main trading strategy, has delivered a remarkable 24.82% return over the last 30 days, showcasing its ability to capitalize on bullish gold price movements with a streamlined set of indicators (EMA, RSI, ATR). In contrast, the main strategy employs additional indicators to enhance trade entry confirmations, offering greater robustness. However, the significant drawdown of **-\\$28,560** on April 7, 2025, during a market selloff highlights a critical limitation: the strategy’s exclusive focus on long positions makes it highly vulnerable when gold prices decline sharply. The planned inclusion of equity and gold price charts will further illustrate this correlation, emphasizing the elevated risk of trading without stop-losses or additional indicators during bearish periods. To enhance stability, traders are strongly advised to avoid deploying this strategy during market selloffs and consider implementing a regime filter, stop-losses, or dynamic sizing. \n",
    "\n",
    "Compared to the Buy and Hold strategy, the scalping approach offers superior flexibility and frequency of returns, though the comparison is limited by their differing objectives. This backtest provides a solid foundation for further optimization and potential live implementation.\n",
    "\n",
    "Future updates to this notebook may include code to address these recommendations and visualizations of the equity-gold price relationship."
   ]
  }
 ],
 "metadata": {
  "kernelspec": {
   "display_name": "Python 3 (ipykernel)",
   "language": "python",
   "name": "python3"
  },
  "language_info": {
   "codemirror_mode": {
    "name": "ipython",
    "version": 3
   },
   "file_extension": ".py",
   "mimetype": "text/x-python",
   "name": "python",
   "nbconvert_exporter": "python",
   "pygments_lexer": "ipython3",
   "version": "3.11.9"
  }
 },
 "nbformat": 4,
 "nbformat_minor": 5
}
