{
 "cells": [
  {
   "cell_type": "markdown",
   "id": "66018aff-e6f9-4acd-860b-a70a319f0514",
   "metadata": {},
   "source": [
    "<div style=\"text-align: center; font-family: 'Times New Roman', Times, serif; font-size: 32px;\">\n",
    "Gold Futures Scalping Strategy Analysis\n",
    "</div>\n",
    "\n",
    "This notebook presents an analysis of a scalping strategy applied to gold futures (GC), tested over the last 30 days from February 24, 2025, to April 4, 2025, using 1-minute timeframe data retrieved via the Interactive Brokers API. This research is a variant of my primary scalping strategy, which employs a broader set of indicators. Here, I focus specifically on two indicators to simplify the approach and evaluate its effectiveness. The objective is to assess the strategy’s performance through key metrics like total return, drawdown, and risk-adjusted returns, emphasizing results and insights over implementation details."
   ]
  },
  {
   "cell_type": "markdown",
   "id": "f8e21516-54e3-4f97-92bf-fcdbab6a63b4",
   "metadata": {},
   "source": [
    "## Strategy Description\n",
    "\n",
    "This variant of my main scalping strategy leverages two technical indicators, unlike the broader set used in the primary approach:\n",
    "- **SMA (Simple Moving Average)**: An 8-period SMA serves as an exit signal for single-position trades.\n",
    "- **RSI (Relative Strength Index)**: A 10-period RSI triggers long entries when it drops below 30, indicating an oversold condition.\n",
    "\n",
    "The strategy initiates a long position with a fixed size of 1 contract whenever RSI < 30. Additional positions are opened if the price falls 2 USD below an existing entry, allowing accumulation. Exit conditions depend on the number of open positions:\n",
    "- For a single position, it closes when the price touches the 8-period SMA.\n",
    "- For multiple positions, all close when the price reaches the average entry price plus 2 USD.\n",
    "\n",
    "The strategy was backtested with an initial capital of 100,000 USD, aiming to exploit short-term price movements in the gold futures market using this simplified two-indicator framework."
   ]
  },
  {
   "cell_type": "markdown",
   "id": "68322595-5578-4304-a56d-762ca70e0c1e",
   "metadata": {},
   "source": [
    "## Data Used\n",
    "\n",
    "The dataset comprises 1-minute historical data for the most active gold futures contract (GCM5), sourced from Interactive Brokers. It spans 30 days, from February 24, 2025, to April 4, 2025, and includes open, high, low, and close prices. The total number of observations is inferred from the 3,851 trades executed during the test period."
   ]
  },
  {
   "cell_type": "markdown",
   "id": "cffeb0c4-5d97-4dee-991e-5e8b53bdc271",
   "metadata": {},
   "source": [
    "## Methodology\n",
    "\n",
    "The backtest assessed the following performance metrics:\n",
    "1. **Total Return**: Percentage gain in equity from the initial $100,000 capital.\n",
    "2. **Maximum Realized Drawdown**: The largest net equity drop below the starting capital.\n",
    "3. **Maximum Intraday Drawdown**: The largest single-day equity decline from its intraday peak, reflecting daily risk.\n",
    "4. **Sharpe Ratio**: Risk-adjusted return, annualized using daily returns with no risk-free rate.\n",
    "\n",
    "Daily results tracked initial balance, end-of-day equity, net profit/loss (PnL), and intraday drawdown. Additionally, the strategy was compared to a Buy and Hold approach—holding one gold futures contract for the entire period—though this may not be an ideal benchmark for a scalping strategy due to its short-term focus."
   ]
  },
  {
   "cell_type": "markdown",
   "id": "585d5f6e-4832-4dcd-ab42-3a8b0599df87",
   "metadata": {},
   "source": [
    "## Results\n",
    "\n",
    "The strategy yielded the following performance over 30 days:\n",
    "- **Total Return**: 10.57%\n",
    "- **Maximum Realized Drawdown**: 0.00% (no net capital loss)\n",
    "- **Maximum Intraday Drawdown**: -$3,375.10 (occurred on 2025-02-25)\n",
    "- **Sharpe Ratio**: 10.55\n",
    "- **Number of Trades**: 3,851\n",
    "\n",
    "The table below summarizes daily performance, showing initial balance, end-of-day equity, net PnL, and maximum intraday drawdown:"
   ]
  },
  {
   "cell_type": "markdown",
   "id": "f92b1cc4-05c9-4f9f-b0e7-7dcff045fe81",
   "metadata": {},
   "source": [
    "```\n",
    "Daily Results:\n",
    "Data                 Balance       Equity          PnL  Daily Drawdown\n",
    "----------------------------------------------------------------------\n",
    "2025-02-24         100052.70    100052.70         0.00          -77.10\n",
    "2025-02-25         100586.50    100586.50       533.80        -3375.10\n",
    "2025-02-26         100676.80    100676.80        90.30         -137.70\n",
    "2025-02-27         101182.40    101182.40       505.60        -1005.70\n",
    "2025-02-28         101520.10    101520.10       337.70         -524.20\n",
    "2025-03-01         101520.10          nan         0.00           -0.00\n",
    "2025-03-02         101520.10          nan         0.00           -0.00\n",
    "2025-03-03         101588.10    101588.10        68.00          -94.30\n",
    "2025-03-04         101773.40    101773.40       185.30         -187.40\n",
    "2025-03-05         102217.70    102217.70       444.30         -752.50\n",
    "2025-03-06         102292.50    102292.50        74.80          -76.40\n",
    "2025-03-07         102503.00    102503.00       210.50         -366.50\n",
    "2025-03-08         102503.00          nan         0.00           -0.00\n",
    "2025-03-09         102503.00          nan         0.00           -0.00\n",
    "2025-03-10         102926.10    102952.10       423.10        -1329.80\n",
    "2025-03-11         103378.70    103378.10       452.60          -39.80\n",
    "2025-03-12         103579.20    103756.10       200.50         -791.50\n",
    "2025-03-13         105647.70    105647.70      2068.50         -108.70\n",
    "2025-03-14         106072.90    106071.50       425.20         -659.90\n",
    "2025-03-15         106072.90          nan         0.00           -0.00\n",
    "2025-03-16         106072.90          nan         0.00           -0.00\n",
    "2025-03-17         106081.50    106081.50         8.60           -6.80\n",
    "2025-03-18         106094.10    106094.30        12.60          -12.80\n",
    "2025-03-19         106103.70    106103.70         9.60          -10.10\n",
    "2025-03-20         106155.80    106155.80        52.10          -60.60\n",
    "2025-03-21         106369.80    106369.80       214.00         -729.30\n",
    "2025-03-22         106369.80          nan         0.00           -0.00\n",
    "2025-03-23         106369.80          nan         0.00           -0.00\n",
    "2025-03-24         107058.40    107057.70       688.60        -1177.70\n",
    "2025-03-25         107304.50    107354.20       246.10         -561.70\n",
    "2025-03-26         108750.60    108750.60      1446.10         -160.00\n",
    "2025-03-27         108824.80    108824.80        74.20          -87.70\n",
    "2025-03-28         109027.20    109027.20       202.40         -302.70\n",
    "2025-03-29         109027.20          nan         0.00           -0.00\n",
    "2025-03-30         109027.20          nan         0.00           -0.00\n",
    "2025-03-31         109271.50    109271.50       244.30         -416.10\n",
    "2025-04-01         109635.60    109635.60       364.10        -1418.60\n",
    "2025-04-02         109820.20    109820.20       184.60         -209.20\n",
    "2025-04-03         110111.40    110111.40       291.20         -439.50\n",
    "2025-04-04         110574.50    110574.50       463.10         -576.90\n",
    "```\n"
   ]
  },
  {
   "cell_type": "markdown",
   "id": "1d5a9a1b-0d64-46e9-b272-c796ca972a14",
   "metadata": {},
   "source": [
    "The equity curve below visualizes the strategy’s performance over the 30-day period:\n",
    "![Test Image](Figure_1.png)"
   ]
  },
  {
   "cell_type": "markdown",
   "id": "6b756704-4fcd-4f3d-be5a-ee389db31712",
   "metadata": {},
   "source": [
    "For comparison, the Buy and Hold equity curve is shown below, representing the performance of holding one gold futures contract over the same period:\n",
    "![Test Image](buy_hold.png)"
   ]
  },
  {
   "cell_type": "markdown",
   "id": "45606fe2-dffa-4f0c-8938-dc9c6b8d3614",
   "metadata": {},
   "source": [
    "## Discussion\n",
    "\n",
    "The strategy achieved a 10.57% return over 30 days, with a Sharpe Ratio of 10.55, indicating strong risk-adjusted performance. The 0.00% realized drawdown confirms that the exit rules effectively protected the initial capital. However, the maximum intraday drawdown of -\\$3,375.10 on February 25, 2025, highlights significant short-term risk, likely due to price volatility during position accumulation early in the period.\n",
    "\n",
    "Notably, the largest daily PnL of 2,068.50 USD occurred on March 13, 2025, with a modest drawdown of -\\$108.70, demonstrating the strategy’s ability to capitalize on favorable movements. For comparison, a Buy and Hold approach—holding one gold futures contract for the entire period—was considered. While this yielded a different risk-return profile (dependent on gold’s price trend), it may not be an ideal benchmark for a scalping strategy focused on frequent, short-term trades rather than long-term price appreciation."
   ]
  },
  {
   "cell_type": "markdown",
   "id": "e0fbcb4c-e848-423f-b99e-617a746861d8",
   "metadata": {},
   "source": [
    "## Conclusions\n",
    "\n",
    "The scalping strategy proved effective, delivering a 10.57% return with no realized capital loss and a high Sharpe Ratio of 10.55. The maximum intraday drawdown of -3375.10 USD suggests room for improvement in managing short-term risk, particularly during volatile days. Potential enhancements include:\n",
    "- Capping the number of accumulated positions to limit exposure.\n",
    "- Adding a stop-loss to reduce intraday drawdowns.\n",
    "\n",
    "Compared to the Buy and Hold strategy, the scalping approach offers superior flexibility and frequency of returns, though the comparison is limited by their differing objectives. This backtest provides a solid foundation for further optimization and potential live implementation."
   ]
  }
 ],
 "metadata": {
  "kernelspec": {
   "display_name": "Python 3 (ipykernel)",
   "language": "python",
   "name": "python3"
  },
  "language_info": {
   "codemirror_mode": {
    "name": "ipython",
    "version": 3
   },
   "file_extension": ".py",
   "mimetype": "text/x-python",
   "name": "python",
   "nbconvert_exporter": "python",
   "pygments_lexer": "ipython3",
   "version": "3.11.9"
  }
 },
 "nbformat": 4,
 "nbformat_minor": 5
}
